{
 "cells": [
  {
   "cell_type": "markdown",
   "metadata": {},
   "source": [
    "# Introduction to Artificial Intelligence for Non Computing"
   ]
  },
  {
   "cell_type": "markdown",
   "metadata": {},
   "source": [
    "## Practical 2 (weeks 3 - 4)"
   ]
  },
  {
   "cell_type": "markdown",
   "metadata": {},
   "source": [
    "#### Theory Questions "
   ]
  },
  {
   "cell_type": "markdown",
   "metadata": {},
   "source": [
    "1\\. What is an algorithm? A sequence of steps such as a recipe or a movie script.\n",
    "\n",
    "As a movie viewer, please write an algorithm for a process to \"see a movie\". Include details of the following for example (add additional information yourself):\n",
    "\t- The start conditions \n",
    "\t-- I want to watch a movie\n",
    "\t- Roles (people/actors involved) \n",
    "    --watcher, ticket seller etc \n",
    "    -Equipment required (\"props\")\n",
    "    --seats, ticket etc\n",
    "    - The scenes \n",
    "    -- scene 1 - buy ticket \n",
    "    -- ??? what happens next\n",
    "    -- scene 3, scene 3 ...\n",
    "    - Results/outcomes\n",
    "    -- ?\n"
   ]
  },
  {
   "cell_type": "markdown",
   "metadata": {},
   "source": [
    "_your answer here..._ \n",
    "\n",
    "***\n",
    "1. The start conditions\n",
    "  a. I want to see a film\n",
    "  b. I have enough money to buy the ticket\n",
    "2. Roles\n",
    "  Me, conductor, teller, actors\n",
    "3. Equipment required\n",
    "  Seats, ticket, screen, vedio carmeras, money, popcorn\n",
    "4. The scenes\n",
    "  Scene One: Buy a ticket\n",
    "    a. I went to the ticket office.\n",
    "    b. I gave money to conductor and she gave me the ticket.\n",
    "  Scene Two: Go to the cinema\n",
    "    a. The ticket inspector checked my ticket and asked me to enter the cinema.\n",
    "    b. I found me seat and sat down to wait for the movie.\n",
    "  Scene Three: Watch the movie\n",
    "    a. The movie started.\n",
    "    b. I enjoyed the movie plot.\n",
    "  Scene Four: The movie is finished\n",
    "    a. The film is over.\n",
    "    b. I left cinema.\n",
    "5. Results\n",
    "  a. I was happy\n",
    "  b. I spent money\n",
    "  c. The cinema and movie earned money."
   ]
  },
  {
   "cell_type": "markdown",
   "metadata": {},
   "source": [
    "2\\. A farmer with his wolf, duck and bag of corn come to the east side of a river they wish to cross. There is a boat at the rivers edge, but of course only the farmer can row. The boat can only hold two things (including the rower) at any one time. If the wolf is ever left alone with the duck, the wolf will eat it. Similarly if the duck is ever left alone with the corn, the duck will eat it. How can the farmer get across the river so that all four arrive safely on the other side? "
   ]
  },
  {
   "cell_type": "markdown",
   "metadata": {},
   "source": [
    "_your answer here..._ \n",
    "\n",
    "***\n",
    "1. The farmer go to the right bank with duck\n",
    "2. The farmer go to the left bank alone\n",
    "3. The farmer go to the right bank with wolf\n",
    "4. The farmer go to the left bank with duck\n",
    "5. The farmer go to the right bank with corn\n",
    "6. The farmer go to the left bank alone\n",
    "7. The farmer go to the right bank with duck"
   ]
  },
  {
   "cell_type": "markdown",
   "metadata": {},
   "source": [
    " "
   ]
  },
  {
   "cell_type": "markdown",
   "metadata": {},
   "source": [
    "3\\.Explain why we determine our problem goals before we write the problem formulation (including the model and deciding what algorithm or techniques to use - for example search, or other method).\n",
    "\n",
    "See Chapter3.1 (Russel & Norvig)"
   ]
  },
  {
   "cell_type": "markdown",
   "metadata": {},
   "source": [
    "_your answer here..._ \n",
    "\n",
    "****\n",
    "In the goal setting, we determine what we are interested in and what can be ignored. Then in the problem formula we decide how to manipulate important aspects while ignoring other aspects. If we first develop the problem, we will not know what to include and what to miss. That is to say, there may be a set of iterations between problem formulation and problem solving until a sufficiently useful and effective solution is reached."
   ]
  },
  {
   "cell_type": "markdown",
   "metadata": {},
   "source": [
    "4\\. This question requires you to perform BFS and DFS on paper.\n",
    "\n",
    "<img src=\"img/p1.png\" width=\"180\" height=\"180\" >\n",
    "\n",
    "1. Simulate (on pencil-and-paper) breadth-first search starting from node A when the goal node is K.\n",
    "2. Simulate (on pencil-and-paper) depth first search starting from node A when the goal node is I.\n"
   ]
  },
  {
   "cell_type": "markdown",
   "metadata": {},
   "source": [
    "1. _your answer here..._ \n",
    "A:[B], B:[C,D], C:[D, E, F], D:[E, F, H, G], E:[F, H, G], F:[H, G], H:[G, K, I], G:[K, I], K=GOAL\n",
    "2. _your answer here..._ \n",
    "A:[B], B:[C, D], C:[E, G, D], E:[F, D], F:[D], D:[H, G], H:[I, K ,G], I=GOAL\n",
    "\n",
    "***"
   ]
  },
  {
   "cell_type": "markdown",
   "metadata": {},
   "source": [
    "5\\.Consider a state space where the start state is number 1 and each state  k has two successors: numbers 2k and 2k + 1.\n",
    "- a. Draw the portion of the state space for states 1 to 15.\n",
    "- b. Suppose the goal state is 11. List the order in which nodes will be visited for breadthfirst\n",
    "search, depth-limited search with limit 3, and iterative deepening search.\n",
    "- c. How well would bidirectional search work on this problem? What is the branching\n",
    "factor in each direction of the bidirectional search?\n",
    "- d. Does the answer to (c) suggest a reformulation of the problem that would allow you to\n",
    "solve the problem of getting from state 1 to a given goal state with almost no search?\n",
    "- e. Call the action going from k to 2k Left, and the action going to 2k + 1 Right. Can you\n",
    "find an algorithm that outputs the solution to this problem without any search at all?\n",
    "\n",
    "See textbook Chapter3.15"
   ]
  },
  {
   "cell_type": "markdown",
   "metadata": {},
   "source": [
    "_your answer here..._ \n",
    "a.                            1\n",
    "                        /            \\\n",
    "                    2                  3\n",
    "                  /    \\             /    \\\n",
    "              4          5         6        7\n",
    "             /  \\       /  \\      /  \\     /  \\          \n",
    "           8     9    10   11    12  13   14  15     \n",
    "b. BFS: 1 2 3 4 5 6 7 8 9 10 11\n",
    "   DFS: 1 2 4 8 9 5 10 11\n",
    "   IDS: 1; 1 2 3; 1 2 4 5 3 6 7 ; 1 2 4 8 9 5 10 11\n",
    "c. It is useful. The only successor of n in the reverse direction is n/2 which helps focus the search. The branching factor is 2 in the forward direction; 1 in the reverse direction\n",
    "d. Yes.getting from 1 and apply the single reverse successor action until you reach 1.\n",
    "e. Read off the binary numeral for thee goal number. We can only reach positive integers, this binary expansion begins with a 1. From most to least significant bit, skipping the initial 1, go left to the node 2n if this bit is 0 and go right to node 2n+1 if it is 1."
   ]
  },
  {
   "cell_type": "markdown",
   "metadata": {},
   "source": [
    "### Programming Excercises"
   ]
  },
  {
   "cell_type": "markdown",
   "metadata": {},
   "source": [
    "1\\.Write a program to solve a classic ancient Chinese puzzle:  \n",
    " We count 35 heads and 94 legs among the chickens and rabbits in a farm. How many rabbits and how many chickens do we have? "
   ]
  },
  {
   "cell_type": "code",
   "execution_count": 5,
   "metadata": {},
   "outputs": [
    {
     "name": "stdout",
     "output_type": "stream",
     "text": [
      "chickens: 23, rabbits: 12\n"
     ]
    }
   ],
   "source": [
    "##Hint:Use for loop to iterate all possible\n",
    "## write your answer here!\n",
    "heads = 35\n",
    "legs = 94\n",
    "for r in range(1, heads+1):\n",
    "    c = 35-r\n",
    "    if(4*r+2*c == legs):\n",
    "        print('chickens: {}, rabbits: {}'.format(c, r))\n",
    "        break"
   ]
  },
  {
   "cell_type": "markdown",
   "metadata": {},
   "source": [
    "2\\. _Social networking_ Please look at the graph below of social relationships. You have a mango farm, you need to find a mango buyer and sell him your mango that you have grown (just a small farm). To this end, our principle is to use our social network of friends separated by one degree, and then second degree friends (friends of friends), third degree friends (friends of friends of friends).\n",
    "\n",
    "Use the depth first algorithm to search your network until you find a mango seller. \n",
    "\n",
    "We make an assumption that if the person's name ends with m, then it means the person must be the mango seller!\n",
    "\n",
    "\n",
    "<img src=\"img/p3.png\" width=\"500\" height=\"400\" >"
   ]
  },
  {
   "cell_type": "code",
   "execution_count": 2,
   "metadata": {},
   "outputs": [
    {
     "name": "stdout",
     "output_type": "stream",
     "text": [
      "thom is a mango seller!\n"
     ]
    }
   ],
   "source": [
    "from collections import deque\n",
    "\n",
    "graph = {}\n",
    "graph[\"you\"] = [\"alice\",\"bob\",\"claire\"]\n",
    "graph[\"bob\"] = [\"anuj\",\"peggy\"]\n",
    "graph[\"alice\"] = [\"peggy\"]\n",
    "graph[\"claire\"] = [\"thom\",\"jonny\"]\n",
    "graph[\"anuj\"] = []\n",
    "graph[\"peggy\"] = []\n",
    "graph[\"thom\"] = []\n",
    "graph[\"jonny\"] = []\n",
    "\n",
    "\n",
    "# Suppose we judge this way, if the person's name ends with m, then it is the mango seller.\n",
    "def person_is_seller(name):\n",
    "    return name[-1] == \"m\"\n",
    "\n",
    "def main():\n",
    "    # Create a queue\n",
    "    search_queue = deque()\n",
    "    # Add your neighbor to this search queue.\n",
    "    search_queue += graph[\"you\"]\n",
    "\n",
    "    # This data is used to record people who have checked.\n",
    "    searched = []\n",
    "\n",
    "    # As long as the queue is not empty, the first person will be taken out.\n",
    "    while search_queue:\n",
    "        person = search_queue.popleft()\n",
    "        # It is only when the person has not checked.\n",
    "        if not person in searched:\n",
    "            if person_is_seller(person):\n",
    "                print(person + \" is a mango seller!\")\n",
    "                return True\n",
    "            else:\n",
    "                search_queue += graph[person]\n",
    "                # Mark this person as checked.\n",
    "                searched.append(person)\n",
    "    return False\n",
    "\n",
    "if __name__ == '__main__':\n",
    "    main()"
   ]
  },
  {
   "cell_type": "markdown",
   "metadata": {},
   "source": [
    "3\\. Depth First traverse：Use depth first traversal to traverse all the DLL files on the C disk and output the file names.\n",
    "\n",
    "Update your code to search for a particular filename.\n",
    "\n",
    "What protocol did you use to select the next node to expand on the fringe?"
   ]
  },
  {
   "cell_type": "code",
   "execution_count": 28,
   "metadata": {},
   "outputs": [
    {
     "ename": "SyntaxError",
     "evalue": "unexpected EOF while parsing (<ipython-input-28-88f29c74fda5>, line 23)",
     "output_type": "error",
     "traceback": [
      "\u001b[1;36m  File \u001b[1;32m\"<ipython-input-28-88f29c74fda5>\"\u001b[1;36m, line \u001b[1;32m23\u001b[0m\n\u001b[1;33m    #print(child)\u001b[0m\n\u001b[1;37m                 ^\u001b[0m\n\u001b[1;31mSyntaxError\u001b[0m\u001b[1;31m:\u001b[0m unexpected EOF while parsing\n"
     ]
    }
   ],
   "source": [
    "## write your answer here!\n",
    "import os\n",
    "import fnmatch\n",
    "stack = []\n",
    "stack.append('C:\\\\')\n",
    "while stack!=[]:\n",
    "    top = stack[0]\n",
    "    stack.pop(0)\n",
    "    # find children of a node\n",
    "    try:\n",
    "        children = os.listdir(top)\n",
    "    except:\n",
    "        pass\n",
    "    for child in children:\n",
    "        # each node is a path\n",
    "        childPath = os.path.join(top, child)\n",
    "        if os.path.isdir(childPath):\n",
    "            stack.insert(0, childPath)\n",
    "        # fringe\n",
    "        elif os.path.isfile(childPath):\n",
    "            if fnmatch.fnmatch(child, '*.dll'):\n",
    "                print(child)"
   ]
  },
  {
   "cell_type": "code",
   "execution_count": 28,
   "metadata": {},
   "outputs": [
    {
     "ename": "SyntaxError",
     "evalue": "unexpected EOF while parsing (<ipython-input-28-88f29c74fda5>, line 23)",
     "output_type": "error",
     "traceback": [
      "\u001b[1;36m  File \u001b[1;32m\"<ipython-input-28-88f29c74fda5>\"\u001b[1;36m, line \u001b[1;32m23\u001b[0m\n\u001b[1;33m    #print(child)\u001b[0m\n\u001b[1;37m                 ^\u001b[0m\n\u001b[1;31mSyntaxError\u001b[0m\u001b[1;31m:\u001b[0m unexpected EOF while parsing\n"
     ]
    }
   ],
   "source": [
    "## write your answer here!\n",
    "import os\n",
    "import fnmatch\n",
    "stack = []\n",
    "stack.append('C:\\\\')\n",
    "while stack!=[]:\n",
    "    top = stack[0]\n",
    "    stack.pop(0)\n",
    "    # find children of a node\n",
    "    try:\n",
    "        children = os.listdir(top)\n",
    "    except:\n",
    "        pass\n",
    "    for child in children:\n",
    "        # each node is a path\n",
    "        childPath = os.path.join(top, child)\n",
    "        if os.path.isdir(childPath):\n",
    "            stack.insert(0, childPath)\n",
    "        # fringe\n",
    "        elif os.path.isfile(childPath):\n",
    "            if fnmatch.fnmatch(child, '*.dll'):\n",
    "                print(child)"
   ]
  },
  {
   "cell_type": "markdown",
   "metadata": {},
   "source": [
    "4\\.\n",
    "Breadth First traverse：Use breadth traversal to traverse all the DLL files on the C disk and output the filename.\n",
    "\n",
    "Update your code to search for a particular filename."
   ]
  },
  {
   "cell_type": "code",
   "execution_count": 29,
   "metadata": {},
   "outputs": [
    {
     "ename": "SyntaxError",
     "evalue": "unexpected EOF while parsing (<ipython-input-29-96587bb4f8c4>, line 21)",
     "output_type": "error",
     "traceback": [
      "\u001b[1;36m  File \u001b[1;32m\"<ipython-input-29-96587bb4f8c4>\"\u001b[1;36m, line \u001b[1;32m21\u001b[0m\n\u001b[1;33m    #print(child)\u001b[0m\n\u001b[1;37m                 ^\u001b[0m\n\u001b[1;31mSyntaxError\u001b[0m\u001b[1;31m:\u001b[0m unexpected EOF while parsing\n"
     ]
    }
   ],
   "source": [
    "## write your answer here!\n",
    "import os\n",
    "import fnmatch\n",
    "queue = []\n",
    "queue.append('C:\\\\')\n",
    "while queue!=[]:\n",
    "    top = queue[0]\n",
    "    queue.pop(0)\n",
    "    # find children of a node\n",
    "    try:\n",
    "        children = os.listdir(top)\n",
    "    except:\n",
    "        pass\n",
    "    for child in children:\n",
    "        # each node is a path\n",
    "        childPath = os.path.join(top, child)\n",
    "        if os.path.isdir(childPath):\n",
    "            queue.append(childPath)\n",
    "        elif os.path.isfile(childPath):\n",
    "            if fnmatch.fnmatch(child, '*.dll'):\n",
    "                print(child)"
   ]
  },
  {
   "cell_type": "markdown",
   "metadata": {},
   "source": [
    "5\\. Uniform cost search"
   ]
  },
  {
   "cell_type": "markdown",
   "metadata": {},
   "source": [
    "Consider a state space where the start state is 2 and each state k has three successors: numbers 2k, 2k+1, 2k+2. The cost from state k to each respective child is k, ground(k/2), k+2.\n",
    "\n",
    "can you implement a uniform-cost-search algorithm with python. The goal state is number 85."
   ]
  },
  {
   "cell_type": "code",
   "execution_count": 34,
   "metadata": {},
   "outputs": [
    {
     "name": "stdout",
     "output_type": "stream",
     "text": [
      "[[2, 0], [5, 1], [4, 2], [6, 4], [11, 2], [10, 5], [12, 7], [9, 2], [8, 4], [10, 6], [13, 3], [12, 6], [14, 8], [23, 5], [22, 11], [24, 13], [21, 5], [20, 10], [22, 12], [25, 6], [24, 12], [26, 14], [19, 4], [18, 9], [20, 11], [17, 4], [16, 8], [18, 10], [21, 5], [20, 10], [22, 12], [27, 6], [26, 13], [28, 15], [25, 6], [24, 12], [26, 14], [29, 7], [28, 14], [30, 16], [47, 11], [46, 23], [48, 25], [45, 11], [44, 22], [46, 24], [49, 12], [48, 24], [50, 26], [43, 10], [42, 21], [44, 23], [41, 10], [40, 20], [42, 22], [45, 11], [44, 22], [46, 24], [51, 12], [50, 25], [52, 27], [49, 12], [48, 24], [50, 26], [53, 13], [52, 26], [54, 28], [39, 9], [38, 19], [40, 21], [37, 9], [36, 18], [38, 20], [41, 10], [40, 20], [42, 22], [35, 8], [34, 17], [36, 19], [33, 8], [32, 16], [34, 18], [37, 9], [36, 18], [38, 20], [43, 10], [42, 21], [44, 23], [41, 10], [40, 20], [42, 22], [45, 11], [44, 22], [46, 24], [55, 13], [54, 27], [56, 29], [53, 13], [52, 26], [54, 28], [57, 14], [56, 28], [58, 30], [51, 12], [50, 25], [52, 27], [49, 12], [48, 24], [50, 26], [53, 13], [52, 26], [54, 28], [59, 14], [58, 29], [60, 31], [57, 14], [56, 28], [58, 30], [61, 15], [60, 30], [62, 32], [95, 23], [94, 47], [96, 49], [93, 23], [92, 46], [94, 48], [97, 24], [96, 48], [98, 50], [91, 22], [90, 45], [92, 47], [89, 22], [88, 44], [90, 46], [93, 23], [92, 46], [94, 48], [99, 24], [98, 49], [100, 51], [97, 24], [96, 48], [98, 50], [101, 25], [100, 50], [102, 52], [87, 21], [86, 43], [88, 45], [85, 21]]\n"
     ]
    }
   ],
   "source": [
    "import math\n",
    "goal = 85\n",
    "state = [-1] * (goal + 1)\n",
    "state[2] = 0\n",
    "for k in range(2 , int(goal/2) + 1):\n",
    "    if state[k] < 0: continue\n",
    "    for pos, cost in [\n",
    "        (k*2, k),\n",
    "        (k*2 + 1, math.floor(k/2)),\n",
    "        (k*2+2, k+2)]:\n",
    "        if pos > goal: continue\n",
    "        if state[pos] == -1 or state[pos] > state[k] + cost:\n",
    "          state[pos] = state[k] + cost\n",
    "      # Possibly store k somewhere to build the solution.\n",
    "print (state[goal])"
   ]
  },
  {
   "cell_type": "markdown",
   "metadata": {},
   "source": [
    "6\\.a* question"
   ]
  },
  {
   "cell_type": "markdown",
   "metadata": {},
   "source": [
    "A cute cat stays in the A position, he is hungry. But the food is placed in the B position. Can you help him to find the food? \n",
    "Hint:  The problem isn't easy. It's essential for you to understand the A* algorithm before you solve this problem. Then, you can use some thought of Node in java, when you are in code.\n",
    "\n",
    "<img src=\"img/p4.png\" width=\"500\" height=\"400\" >\n"
   ]
  },
  {
   "cell_type": "code",
   "execution_count": null,
   "metadata": {},
   "outputs": [],
   "source": [
    "## write your answer here!"
   ]
  }
 ],
 "metadata": {
  "kernelspec": {
   "display_name": "Python 3",
   "language": "python",
   "name": "python3"
  },
  "language_info": {
   "codemirror_mode": {
    "name": "ipython",
    "version": 3
   },
   "file_extension": ".py",
   "mimetype": "text/x-python",
   "name": "python",
   "nbconvert_exporter": "python",
   "pygments_lexer": "ipython3",
   "version": "3.6.5"
  }
 },
 "nbformat": 4,
 "nbformat_minor": 2
}

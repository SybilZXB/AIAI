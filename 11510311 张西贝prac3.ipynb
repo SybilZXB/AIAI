{
 "cells": [
  {
   "cell_type": "markdown",
   "metadata": {},
   "source": [
    "# Introduction to Artificial Intelligence for Non Computing"
   ]
  },
  {
   "cell_type": "markdown",
   "metadata": {},
   "source": [
    "## Practical 3 (weeks 5 - 6)"
   ]
  },
  {
   "cell_type": "markdown",
   "metadata": {},
   "source": [
    "The following links provide additional information about data analysis , machine learning and Numpy"
   ]
  },
  {
   "cell_type": "markdown",
   "metadata": {},
   "source": [
    "Python data analysis: https://www.imooc.com/learn/843\n",
    "machine learning: https://www.imooc.com/learn/717\n",
    "Numpy :https://www.imooc.com/learn/943"
   ]
  },
  {
   "cell_type": "markdown",
   "metadata": {},
   "source": [
    "#### Theory Questions"
   ]
  },
  {
   "cell_type": "markdown",
   "metadata": {},
   "source": [
    "1\\.Which of the following are true and which are false? Give brief explanations.\n",
    "- a. In a fully observable, turn-taking, zero-sum game between two perfectly rational players,it does not help the first player to know what strategy the second player is using—that is, what move the second player will make, given the first player's move.\n",
    "- b. In a partially observable, turn-taking, zero-sum game between two perfectly rational players, it does not help the first player to know what move the second player will make, given the first player's move.\n",
    "- c. A perfectly rational backgammon agent never loses.\n",
    "\n",
    "See textbook Chapter6 24.6"
   ]
  },
  {
   "cell_type": "markdown",
   "metadata": {},
   "source": [
    " a:true Tme The second player will play optimally, and so is perfectly predictable up to ties.\n",
    "b: False\n",
    "C:false\n",
    "\n",
    "***"
   ]
  },
  {
   "cell_type": "markdown",
   "metadata": {},
   "source": [
    "2\\.Define in your own words the terms constraint, backtracking search, arc consistency,backjumping, min-conflicts, and cycle cutset.\n",
    "\n",
    "See textbook Chapter6 6.16"
   ]
  },
  {
   "cell_type": "markdown",
   "metadata": {},
   "source": [
    "_your answer here..._ \n",
    "\n",
    "constraint:n engineering design, particularly in the use of computer-aided drafting and design, in the creation of 3D assemblies and multibody systems, the plural term \"constraints\" refers to demarcations of geometrical characteristics between two or more entities or solid modeling bodies; these delimiters are intentional in defining diverse properties of theoretical physical position and motion, or displacement. In addition, 2D sketches -including the ones used to create extrusions and solid bodies- can also be constrained.\n",
    "\n",
    "backtracking search：Backtracking is a general algorithm for finding all (or some) solutions to some computational problems, notably constraint satisfaction problems, that incrementally builds candidates to the solutions, and abandons a candidate (\"backtracks\") as soon as it determines that the candidate cannot possibly be completed to a valid solution.\n",
    "\n",
    "In constraint satisfaction, local consistency conditions are properties of constraint satisfaction problems related to the consistency of subsets of variables or constraints. They can be used to reduce the search space and make the problem easier to solve. Various kinds of local consistency conditions are leveraged, including node consistency, arc consistency, and path consistency.\n",
    "\n",
    "backjumping：In backtracking algorithms, backjumping is a technique that reduces search space, therefore increasing efficiency. While backtracking always goes up one level in the search tree when all values for a variable have been tested, backjumping may go up more levels. In this article, a fixed order of evaluation of variables {\\displaystyle x_{1},\\ldots ,x_{n}} x_{1},\\ldots ,x_{n} is used, but the same considerations apply to a dynamic order of evaluation.\n",
    "\n",
    "min-conflicts：In computer science, the min conflicts algorithm is a search algorithm or heuristic method to solve constraint satisfaction problems (CSP).Given an initial assignment of values to all the variables of a CSP, the algorithm randomly selects a variable from the set of variables with conflicts violating one or more constraints of the CSP. Then it assigns to this variable the value that minimizes the number of conflicts. If there is more than one value with a minimum number of conflicts, it chooses one randomly. This process of random variable selection and min-conflict value assignment is iterated until a solution is found or a pre-selected maximum number of iterations is reached.Because a CSP can be interpreted as a local search problem when all the variables have an assigned value (called a complete state), the min conflicts algorithm can be seen as a repair heuristic that chooses the state with the minimum number of conflicts.\n",
    "\n",
    "cycle cutset：循环切割"
   ]
  },
  {
   "cell_type": "markdown",
   "metadata": {},
   "source": [
    "3\\.Explain why it is a good heuristic to choose the variable that is most constrained but the value that is least constraining in a CSP search.\n",
    "\n",
    "See textbook Chapter6 6.9"
   ]
  },
  {
   "cell_type": "markdown",
   "metadata": {},
   "source": [
    "_your answer here..._ \n",
    "most constrained is right，because it choose a various（every other element is equal~ so it can make sence）\n",
    "***"
   ]
  },
  {
   "cell_type": "markdown",
   "metadata": {},
   "source": [
    "4\\.Consider the following procedure for choosing moves in games with chance nodes: \n",
    "- 1、Generate some dice-roll sequences (say, 50) down to a suitable depth (say, 8).\n",
    "- 2、With known dice rolls, the game tree becomes deterministic. For each dice-roll sequence,solve the resulting deterministic game tree using alpha-beta.\n",
    "- 3、Use the results to estimate the value of each move and to choose the best.Will this procedure work well? Why (or why not)?\n",
    "\n",
    "See textbook Chapter5 5.19"
   ]
  },
  {
   "cell_type": "markdown",
   "metadata": {},
   "source": [
    "_your answer here..._ \n",
    "\n",
    "***this program will get a wrong result\n",
    "it will not assume average commutes with mix and min"
   ]
  },
  {
   "cell_type": "markdown",
   "metadata": {},
   "source": [
    "5\\. Now,please consider this game:  there are three plates A, B and C, each plate has three bills. A puts 1, 20, 50; B puts 5, 10, 100; C puts 1, 5, 20. All units are \"Yuan\". There are two persons A and B, and two of them can check out three plates and banknotes .（ A is ourself, The other is B）\n",
    "The game is divided into three steps: \n",
    "- 1、A select a plate from three plate.\n",
    "- 2、B take out two banknotes from A selected plate,and give the  banknotes to A.  \n",
    "- 3、A take one of the two banknotes, and take it away.among,A want to get the max banknotes, B want to let A to get the min.\n",
    "\n",
    "Try to understand the minimax algorithm，you can click the link:https://blog.csdn.net/tangchenyi/article/details/22920031"
   ]
  },
  {
   "cell_type": "markdown",
   "metadata": {},
   "source": [
    "_your answer here..._ \n",
    "The Minimax Algorithm can solve this problem\n",
    "***"
   ]
  },
  {
   "cell_type": "markdown",
   "metadata": {},
   "source": [
    "### Programming Excercises"
   ]
  },
  {
   "cell_type": "markdown",
   "metadata": {},
   "source": [
    "1\\. Guess number(Single number): please generate a randomly number  with the function (random), then ask someone to guess the number,I think we should give the corresponding hint, otherwise it will be very difficult to guess the number.the game will be over untill you get the right number."
   ]
  },
  {
   "cell_type": "code",
   "execution_count": 1,
   "metadata": {},
   "outputs": [],
   "source": [
    "import random\n",
    "secret = random.randint(1,10)\n",
    "#print(secret)\n",
    "print('------猜数字游戏！-----')\n",
    "guess = 0\n",
    "while guess != secret:\n",
    "    temp = input('猜数字游戏开始，请输入数字：')\n",
    "    guess = int(temp)\n",
    "    if guess > secret:\n",
    "        print('您输入的数字大了！')\n",
    "    else:\n",
    "        print('您输入的数字小了！')\n",
    "if guess == secret:\n",
    "    print('恭喜，您猜对了！')\n",
    "    print('游戏结束，再见！^_^')"
   ]
  },
  {
   "cell_type": "markdown",
   "metadata": {},
   "source": [
    "2\\.if you had understand the guess single number games,Congratulates,next is the guess three number games,Maybe you can do it well.But this is a different way of thinking. \n",
    "first : we need generate three numbers,there are most ten times chances give  you to guess the number,of course,we also give you some cue.\n",
    "\n",
    "- 'When I say:-->It means:\n",
    "- 'error--> The 3 numbers are not in the mystical numbers.'\n",
    "- 'Only the number is correct --> the number is right , but the position is not right.'\n",
    "- 'Absolutely right--> numbers is right and the position also right.'\n",
    "\n",
    "Maybe it's better for you to understand the rule well through see the picture.\n",
    "<div style=\"float:left;\" ><img src=\"img/p1.png\" width=\"400\" height=\"300\" >"
   ]
  },
  {
   "cell_type": "code",
   "execution_count": null,
   "metadata": {},
   "outputs": [],
   "source": [
    "## write your answer here!\n",
    "num=5\n",
    "#num=raw_input(\"input number to get three-digital number:\")\n",
    "list1=range(1,num)\n",
    "counter=0\n",
    "for i in list1:\n",
    "    for j in list1:\n",
    "        if(i!=j):\n",
    "            for k in list1:\n",
    "                if(i!=j and j!=k and i!=k):\n",
    "                    print(i*100+j*10+k)\n",
    "                    counter+=1\n",
    "                else:\n",
    "                    continue\n",
    "        else:\n",
    "            continue\n",
    "\n",
    "print(\"total :\"+str(counter))\n",
    "\n",
    "import random\n",
    "secret = random.randint(1,10)\n",
    "#print(secret)\n",
    "print('------猜数字游戏！-----')\n",
    "guess = 0\n",
    "while guess != secret:\n",
    "    temp = input('猜数字游戏开始，请输入数字：')\n",
    "    guess = int(temp)\n",
    "    if guess > secret:\n",
    "        print('您输入的数字大了！')\n",
    "    else:\n",
    "        print('您输入的数字小了！')\n",
    "if guess == secret:\n",
    "    print('恭喜，您猜对了！')\n",
    "    print('游戏结束，再见！^_^')"
   ]
  },
  {
   "cell_type": "markdown",
   "metadata": {},
   "source": [
    "3\\.please try using Python's Tkinter to make a visual interface（GUI）.if you don't know anything.Maybe you can refer to the below interface.and implement it by code.\n",
    "\n",
    "<div style=\"float:left;\" ><img src=\"img/p2.png\" width=\"200\" height=\"200\" >"
   ]
  },
  {
   "cell_type": "code",
   "execution_count": null,
   "metadata": {},
   "outputs": [],
   "source": [
    "## write your answer here!\n",
    "#!/usr/bin/python\n",
    "# -*- coding: UTF-8 -*-\n",
    " \n",
    "from Tkinter import *           # 导入 Tkinter 库\n",
    "root = Tk()                     # 创建窗口对象的背景色\n",
    "                                # 创建两个列表\n",
    "li     = ['C','python','php','html','SQL','java']\n",
    "movie  = ['CSS','jQuery','Bootstrap']\n",
    "listb  = Listbox(root)          #  创建两个列表组件\n",
    "listb2 = Listbox(root)\n",
    "for item in li:                 # 第一个小部件插入数据\n",
    "    listb.insert(0,item)\n",
    " \n",
    "for item in movie:              # 第二个小部件插入数据\n",
    "    listb2.insert(0,item)\n",
    " \n",
    "listb.pack()                    # 将小部件放置到主窗口中\n",
    "listb2.pack()\n",
    "root.mainloop()                 # 进入消息循环"
   ]
  },
  {
   "cell_type": "markdown",
   "metadata": {},
   "source": [
    "4\\.Through the initial trial of Tkinter,    please write a simple calculator.\n",
    "\n",
    "<div style=\"float:left;\" ><img src=\"img/p3.png\" width=\"180\" height=\"200\" center=\"left\"></div>\n",
    "<div style=\"float:left;\" ><img src=\"img/p4.png\" width=\"180\" height=\"200\" center=\"right\" ></div>"
   ]
  },
  {
   "cell_type": "code",
   "execution_count": 2,
   "metadata": {},
   "outputs": [],
   "source": [
    "## write your answer here!\n",
    "from tkinter import *\n",
    "\n",
    "\n",
    "\n",
    "class Calculator(Frame):\n",
    "     def __init__(self):\n",
    "        Frame.__init__(self)\n",
    "        self.pack(expand=YES, fill=BOTH)\n",
    "        self.master.title('calculator')\n",
    "        self.master.rowconfigure( 0, weight = 1 )\n",
    "        self.master.columnconfigure( 0, weight = 1 )\n",
    "        self.grid( sticky = W+E+N+S )\n",
    "\n",
    "        display = StringVar()\n",
    "\n",
    "        #add entry ,use grid method\n",
    "        #textvariable must use 'display' instead of 'StrinvVar()', or click button shows nothing in Entry\n",
    "        entry = Entry(self, relief=SUNKEN, textvariable=display)\n",
    "        #W+E+N+S means that the widget should be expanded in both directions. Default is to center the widget in the cell.\n",
    "        entry.grid(row=0, column=0, columnspan=4, sticky=W+E+N+S)\n",
    "        #add button, use grid method\n",
    "        grid = '789+456-123*0./='\n",
    "        for index,textChar in enumerate(grid):\n",
    "            a = Button(self, text=textChar, width=5, command=lambda text=textChar:display.set(display.get() + text))\n",
    "            a.grid(row=1+index//4, column=index%4)\n",
    "            button_text = a.cget(\"text\")\n",
    "            #print(button_text)\n",
    "            if button_text == '=':\n",
    "                a.config(command=lambda:display.set(eval(display.get())))\n",
    "\n",
    "        #add clear button\n",
    "        b = Button(self, text=\"clear\", width=20, command=lambda:display.set(\"\"))\n",
    "        b.grid(row=7, column=0, columnspan=4, sticky=W+E+N+S)\n",
    "\n",
    "\n",
    "\n",
    "if __name__ == '__main__':\n",
    "    Calculator().mainloop()\n",
    "\n"
   ]
  },
  {
   "cell_type": "markdown",
   "metadata": {},
   "source": [
    "5\\.Ball game:Python's pinball game, which can realize the game function of the keyboard control bottom baffle moving collision ball similar to table tennis game. \n",
    "\n",
    "<div style=\"float:left;\" ><img src=\"img/p5.png\" width=\"200\" height=\"200\" center=\"left\"></div>\n",
    "<div style=\"float:left;\" ><img src=\"img/p6.png\" width=\"200\" height=\"200\" center=\"right\" ></div>\n"
   ]
  },
  {
   "cell_type": "markdown",
   "metadata": {},
   "source": [
    "this is a step:how to install the matplotlib,you can reference this link:https://blog.csdn.net/not_give_up_/article/details/79058272\n",
    "1. Ball Class\n",
    "    draw is responsible for moving Ball\n",
    "    Collision detection, bounce, Ball detection of Paddle \n",
    "2. Paddle Class\n",
    "    draw is responsible for moving Paddle\n",
    "    Collision detection to determine whether or not to continue ,Monitor keyboard events\n",
    "3. main cycle\n",
    "    Drawing the Ball and Paddle"
   ]
  },
  {
   "cell_type": "code",
   "execution_count": null,
   "metadata": {},
   "outputs": [],
   "source": [
    "## write your answer here!\n",
    "from tkinter import *\n",
    "import matplotlib\n",
    "matplotlib.use('Agg')\n",
    "import random\n",
    "import time\n",
    "class Ball:\n",
    "  def __init__(self, canvas, paddle, color):\n",
    "    self.canvas = canvas\n",
    "    self.paddle = paddle\n",
    "    self.id = canvas.create_oval(10, 10, 25, 25, fill=color)\n",
    "    self.canvas.move(self.id, 245, 100)\n",
    "    startx = [-3, -2, -1, 1, 2, 3]\n",
    "    random.shuffle(startx)\n",
    "    self.x = startx[0]\n",
    "    self.y = -3\n",
    "    self.canvas_height = self.canvas.winfo_height()\n",
    "    self.canvas_width = self.canvas.winfo_width()\n",
    "    self.hit_bottom = False\n",
    "  def draw(self):\n",
    "    self.canvas.move(self.id, self.x, self.y)\n",
    "    pos = self.canvas.coords(self.id)#top-left bottom-right\n",
    "    if (pos[1] <= 0 or self.hit_paddle(pos) == True):\n",
    "      self.y = -self.y\n",
    "    if (pos[0] <= 0 or pos[2] >= self.canvas_width):\n",
    "      self.x = -self.x\n",
    "    if (pos[3] >= self.canvas_height):\n",
    "      self.hit_bottom = True\n",
    "  def hit_paddle(self, pos):\n",
    "    paddle_pos = self.canvas.coords(self.paddle.id)\n",
    "    if (pos[2] >= paddle_pos[0] and pos[0] <= paddle_pos[2]):\n",
    "      if (pos[3] >= paddle_pos[1] and pos[3] <= paddle_pos[3]):\n",
    "        return True\n",
    "    return False\n",
    "class Paddle:\n",
    "  def __init__(self, canvas, color):\n",
    "    self.canvas = canvas\n",
    "    self.id = canvas.create_rectangle(0, 0, 100, 10, fill = color)\n",
    "    self.x = 0\n",
    "    self.canvas.move(self.id, 200, 300)\n",
    "    self.canvas_width = self.canvas.winfo_width()\n",
    "    self.canvas.bind_all(\"<Key-Left>\", self.turn_left)\n",
    "    self.canvas.bind_all(\"<Key-Right>\", self.turn_right)\n",
    "  def draw(self):\n",
    "    pos = self.canvas.coords(self.id)\n",
    "    if (pos[0] + self.x >= 0 and pos[2] + self.x <= self.canvas_width):\n",
    "      self.canvas.move(self.id, self.x, 0)\n",
    "    #self.x = 0\n",
    "  def turn_left(self, event):\n",
    "    self.x = -4\n",
    "  def turn_right(self, event):\n",
    "    self.x = 4\n",
    "tk = Tk()\n",
    "tk.title(\"Game\")\n",
    "tk.resizable(0, 0)#not resizable\n",
    "tk.wm_attributes(\"-topmost\", 1)#at top\n",
    "canvas = Canvas(tk, width = 500, height = 500, bd = 0, highlightthickness = 0)\n",
    "canvas.pack()\n",
    "tk.update()#init\n",
    "paddle = Paddle(canvas, 'blue')\n",
    "ball = Ball(canvas, paddle, 'red')\n",
    "while 1:\n",
    "  if (ball.hit_bottom == False):\n",
    "    ball.draw()\n",
    "    paddle.draw()\n",
    "tk.update_idletasks()\n",
    "tk.update()\n",
    "time.sleep(0.01)"
   ]
  }
 ],
 "metadata": {
  "kernelspec": {
   "display_name": "Python 3",
   "language": "python",
   "name": "python3"
  },
  "language_info": {
   "codemirror_mode": {
    "name": "ipython",
    "version": 3
   },
   "file_extension": ".py",
   "mimetype": "text/x-python",
   "name": "python",
   "nbconvert_exporter": "python",
   "pygments_lexer": "ipython3",
   "version": "3.6.5"
  }
 },
 "nbformat": 4,
 "nbformat_minor": 2
}
